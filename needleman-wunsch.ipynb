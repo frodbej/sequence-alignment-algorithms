{
 "cells": [
  {
   "cell_type": "markdown",
   "metadata": {},
   "source": [
    "## Needleman-Wunsch algorithm implementation\n",
    "\n",
    "Implementation of Needleman-Wunsch algorithm for global alignment."
   ]
  },
  {
   "cell_type": "code",
   "execution_count": 15,
   "metadata": {},
   "outputs": [],
   "source": [
    "from Bio.Align import substitution_matrices\n",
    "import numpy as np"
   ]
  },
  {
   "cell_type": "code",
   "execution_count": 16,
   "metadata": {},
   "outputs": [],
   "source": [
    "def getGlobalTables(s,t,m,gapPenalty):\n",
    "    \"\"\"The function gets two sequences to align as input (s, t), the substitution matrix (m), and the gap penalty (gapPenalty). \n",
    "    It returns a tuple with the dynamic matrix and the pointers matrix\"\"\"\n",
    "    # Load substitution matrix\n",
    "    subst = substitution_matrices.load(m)\n",
    "    dynamic_matrix = []\n",
    "    pointers_matrix = []\n",
    "    # Fill both matrices with zeros\n",
    "    for e in range(0,len(s)+1):\n",
    "        dynamic_matrix.append([0]*(len(t)+1))\n",
    "        pointers_matrix.append([0]*(len(t)+1))\n",
    "    # Fill first row and first column\n",
    "    for i in range(1,len(s)+1):\n",
    "        dynamic_matrix[i][0] = dynamic_matrix[i-1][0] + gapPenalty\n",
    "        pointers_matrix[i][0] = 2\n",
    "    for j in range(1,len(t)+1):\n",
    "        dynamic_matrix[0][j] = dynamic_matrix[0][j-1] + gapPenalty\n",
    "        pointers_matrix[0][j] = 3\n",
    "    \n",
    "    # Use a nested loop to fill the rest of the matrices\n",
    "    for i in range(1,len(s)+1):\n",
    "        \n",
    "        for j in range(1,len(t)+1):\n",
    "            # Store the maximum\n",
    "            dynamic_matrix[i][j] = max(dynamic_matrix[i-1][j-1]+subst[s[i-1],t[j-1]],\n",
    "                                             dynamic_matrix[i-1][j]+subst[s[i-1],\"*\"],\n",
    "                                             dynamic_matrix[i][j-1]+subst[\"*\",t[j-1]])\n",
    "            # Store the index of the maximum + 1\n",
    "            pointers_matrix[i][j] = np.argmax((dynamic_matrix[i-1][j-1]+subst[s[i-1],t[j-1]],\n",
    "                                             dynamic_matrix[i-1][j]+subst[s[i-1],\"*\"],\n",
    "                                             dynamic_matrix[i][j-1]+subst[\"*\",t[j-1]])) +1\n",
    "    \n",
    "    return (dynamic_matrix, pointers_matrix)\n"
   ]
  },
  {
   "cell_type": "code",
   "execution_count": 17,
   "metadata": {},
   "outputs": [
    {
     "data": {
      "text/plain": [
       "([[0, -4, -8, -12, -16, -20, -24, -28, -32, -36, -40, -44],\n",
       "  [-4, 4.0, 0.0, -4.0, -8.0, -12.0, -16.0, -20.0, -24.0, -28.0, -32.0, -36.0],\n",
       "  [-8, 0.0, 8.0, 4.0, 0.0, -4.0, -8.0, -12.0, -16.0, -20.0, -24.0, -28.0],\n",
       "  [-12, -4.0, 4.0, 12.0, 8.0, 4.0, 0.0, -4.0, -8.0, -12.0, -16.0, -20.0],\n",
       "  [-16, -8.0, 0.0, 8.0, 16.0, 12.0, 8.0, 4.0, 0.0, -4.0, -8.0, -12.0],\n",
       "  [-20, -12.0, -4.0, 4.0, 12.0, 20.0, 16.0, 12.0, 8.0, 4.0, 0.0, -4.0],\n",
       "  [-24, -16.0, -8.0, 0.0, 8.0, 16.0, 24.0, 20.0, 16.0, 12.0, 8.0, 4.0],\n",
       "  [-28, -20.0, -12.0, -4.0, 4.0, 12.0, 20.0, 21.0, 20.0, 20.0, 16.0, 12.0],\n",
       "  [-32, -24.0, -16.0, -8.0, 0.0, 8.0, 16.0, 17.0, 20.0, 23.0, 24.0, 20.0],\n",
       "  [-36, -28.0, -20.0, -12.0, -4.0, 4.0, 12.0, 22.0, 18.0, 19.0, 20.0, 24.0],\n",
       "  [-40, -32.0, -24.0, -16.0, -8.0, 0.0, 8.0, 18.0, 26.0, 22.0, 18.0, 21.0]],\n",
       " [[0, 3, 3, 3, 3, 3, 3, 3, 3, 3, 3, 3],\n",
       "  [2, 1, 3, 1, 3, 3, 3, 3, 3, 1, 3, 3],\n",
       "  [2, 2, 1, 3, 3, 3, 3, 3, 3, 3, 1, 3],\n",
       "  [2, 1, 2, 1, 3, 3, 3, 3, 3, 1, 3, 3],\n",
       "  [2, 2, 2, 2, 1, 3, 1, 3, 1, 3, 3, 3],\n",
       "  [2, 2, 2, 2, 2, 1, 3, 3, 3, 3, 3, 3],\n",
       "  [2, 2, 2, 2, 1, 2, 1, 3, 1, 3, 3, 3],\n",
       "  [2, 1, 2, 1, 2, 2, 2, 1, 1, 1, 3, 3],\n",
       "  [2, 2, 1, 2, 2, 2, 2, 1, 1, 1, 1, 3],\n",
       "  [2, 2, 2, 2, 2, 2, 2, 1, 3, 2, 1, 1],\n",
       "  [2, 2, 2, 2, 1, 2, 1, 2, 1, 3, 1, 1]])"
      ]
     },
     "execution_count": 17,
     "metadata": {},
     "output_type": "execute_result"
    }
   ],
   "source": [
    "getGlobalTables('VIVALAVIDA','VIVALADAVIS',\"BLOSUM62\",-4)"
   ]
  },
  {
   "cell_type": "code",
   "execution_count": 18,
   "metadata": {},
   "outputs": [],
   "source": [
    "def getGlobalTrace(p):\n",
    "    \"\"\"It gets as input the pointers matrix (p) and returns the trace\"\"\"\n",
    "\n",
    "    # Define i, j, and trace variables\n",
    "    i,j,trace = len(p)-1, len(p[0])-1, []\n",
    "    \n",
    "    # Trace the pointers matrix\n",
    "    while p[i][j] != 0:\n",
    "        trace.append(p[i][j])\n",
    "        if p[i][j] == 1:\n",
    "            i -= 1\n",
    "            j -= 1\n",
    "        elif p[i][j] == 2:\n",
    "            i -= 1\n",
    "        else:\n",
    "            j -= 1\n",
    "    \n",
    "    # Reverse trace list\n",
    "    trace.reverse()\n",
    "    return trace\n"
   ]
  },
  {
   "cell_type": "code",
   "execution_count": 19,
   "metadata": {},
   "outputs": [
    {
     "data": {
      "text/plain": [
       "[1, 1, 1, 1, 1, 1, 3, 1, 1, 1, 1]"
      ]
     },
     "execution_count": 19,
     "metadata": {},
     "output_type": "execute_result"
    }
   ],
   "source": [
    "d,p = getGlobalTables('VIVALAVIDA','VIVALADAVIS',\"BLOSUM62\",-4)    \n",
    "getGlobalTrace(p)"
   ]
  },
  {
   "cell_type": "code",
   "execution_count": 20,
   "metadata": {},
   "outputs": [],
   "source": [
    "def getGlobalAlignment(s, t, trace):\n",
    "    \"\"\"It gets as input two sequences to align (s, t) and a trace, and it returns the obtained alignment.\"\"\"\n",
    "    # Define the variables: i, j, a, b\n",
    "    i,j,a,b = 0,0,\"\",\"\"\n",
    "\n",
    "    # Iterate over trace\n",
    "    for k in range(0,len(trace)):\n",
    "        if trace[k] == 1:\n",
    "            a += s[i]\n",
    "            b += t[j]\n",
    "            i += 1\n",
    "            j += 1\n",
    "        elif trace[k] == 2:\n",
    "            a += s[i]\n",
    "            b += \"-\"\n",
    "            i += 1\n",
    "        else:\n",
    "            a += \"-\"\n",
    "            b += t[j]\n",
    "            j += 1\n",
    "    return (a,b)\n"
   ]
  },
  {
   "cell_type": "code",
   "execution_count": 21,
   "metadata": {},
   "outputs": [
    {
     "data": {
      "text/plain": [
       "('VIVALA-VIDA', 'VIVALADAVIS')"
      ]
     },
     "execution_count": 21,
     "metadata": {},
     "output_type": "execute_result"
    }
   ],
   "source": [
    "d,p = getGlobalTables('VIVALAVIDA','VIVALADAVIS',\"BLOSUM62\",-4)    \n",
    "trace = getGlobalTrace(p)\n",
    "getGlobalAlignment('VIVALAVIDA','VIVALADAVIS',trace)    "
   ]
  }
 ],
 "metadata": {
  "kernelspec": {
   "display_name": "Python 3 (ipykernel)",
   "language": "python",
   "name": "python3"
  },
  "language_info": {
   "codemirror_mode": {
    "name": "ipython",
    "version": 3
   },
   "file_extension": ".py",
   "mimetype": "text/x-python",
   "name": "python",
   "nbconvert_exporter": "python",
   "pygments_lexer": "ipython3",
   "version": "3.9.7"
  }
 },
 "nbformat": 4,
 "nbformat_minor": 4
}
