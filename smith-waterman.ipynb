{
 "cells": [
  {
   "cell_type": "markdown",
   "id": "political-alexander",
   "metadata": {},
   "source": [
    "## Smith-Waterman algorithm\n",
    "\n",
    "The Smith-Waterman algorithm is a variant of the Needleman-Wunsch algorithm that solves the local alignment of two sequences applying dynamic programming."
   ]
  },
  {
   "cell_type": "code",
   "execution_count": 16,
   "id": "blessed-history",
   "metadata": {},
   "outputs": [],
   "source": [
    "import numpy as np\n",
    "# Load BLOSUM62 matrix\n",
    "from Bio.Align import substitution_matrices\n",
    "blosum62 = substitution_matrices.load(\"BLOSUM62\")"
   ]
  },
  {
   "cell_type": "markdown",
   "id": "twelve-immune",
   "metadata": {},
   "source": [
    "## Needleman-Wunsch algorithm implementation\n",
    "\n",
    "Implementation of Needleman-Wunsch algorithm for global alignment."
   ]
  },
  {
   "cell_type": "code",
   "execution_count": 17,
   "id": "3afd74fd",
   "metadata": {
    "scrolled": true
   },
   "outputs": [],
   "source": [
    "def getGlobalTables(s,t,m,gap_penalty):\n",
    "    \"\"\"It gets as input two sequences to align (s, t), the substitution matrix (m), and the gap penalty (gap_penalty). \n",
    "    It returns the dynamic matrix and the pointers matrix.\"\"\"\n",
    "    dynamic_matrix, pointers_matrix = [],[]\n",
    "    # Fill both matrices with zeros\n",
    "    for e in range(0,len(s)+1):\n",
    "        dynamic_matrix.append([0]*(len(t)+1))\n",
    "        pointers_matrix.append([0]*(len(t)+1))\n",
    "        \n",
    "    # Fill first row and first column\n",
    "    for i in range(1,len(s)+1):\n",
    "        dynamic_matrix[i][0] = dynamic_matrix[i-1][0] + gap_penalty\n",
    "        pointers_matrix[i][0] = 2\n",
    "        \n",
    "    for j in range(1,len(t)+1):\n",
    "        dynamic_matrix[0][j] = dynamic_matrix[0][j-1] + gap_penalty\n",
    "        pointers_matrix[0][j] = 3\n",
    "        \n",
    "    # Use a nested loop to fill the rest of the matrices\n",
    "    for i in range(1,len(s)+1):\n",
    "        for j in range(1,len(t)+1):\n",
    "            # Store the maximum\n",
    "            dynamic_matrix[i][j] = max(dynamic_matrix[i-1][j-1]+m[s[i-1],t[j-1]],\n",
    "                                       dynamic_matrix[i-1][j]+gap_penalty,\n",
    "                                       dynamic_matrix[i][j-1]+gap_penalty)\n",
    "            # Store the index of the maximum + 1\n",
    "            pointers_matrix[i][j] = np.argmax([dynamic_matrix[i-1][j-1]+m[s[i-1],t[j-1]],\n",
    "                                       dynamic_matrix[i-1][j]+gap_penalty,\n",
    "                                       dynamic_matrix[i][j-1]+gap_penalty]) + 1\n",
    "            \n",
    "    return (dynamic_matrix,pointers_matrix)\n"
   ]
  },
  {
   "cell_type": "code",
   "execution_count": 18,
   "id": "0665df9d",
   "metadata": {},
   "outputs": [],
   "source": [
    "def getGlobalTrace(p):\n",
    "    \"\"\"It gets as input the pointers matrix (p) and returns the trace\"\"\"\n",
    "\n",
    "    i,j,trace = len(p)-1, len(p[0])-1, []\n",
    "    \n",
    "    # Trace the pointers matrix\n",
    "    while p[i][j] != 0:\n",
    "        trace.append(p[i][j])\n",
    "        if p[i][j] == 1:\n",
    "            i -= 1\n",
    "            j -= 1\n",
    "        elif p[i][j] == 2:\n",
    "            i -= 1\n",
    "        else:\n",
    "            j -= 1\n",
    "    # Reverse the trace\n",
    "    trace.reverse()\n",
    "    return trace"
   ]
  },
  {
   "cell_type": "code",
   "execution_count": 19,
   "id": "d2366552",
   "metadata": {},
   "outputs": [],
   "source": [
    "def globalAlignment(s,t,m,gap_penalty):\n",
    "    \"\"\"It gets as input two sequences to align (s, t), the trace, and the gap penalty. It returns the obtained alignment and its score.\"\"\"\n",
    "    # Define the variables: i, j, a, b\n",
    "    dynamic_matrix = getGlobalTables(s,t,m,gap_penalty)[0]\n",
    "    pointers_matrix = getGlobalTables(s,t,m,gap_penalty)[1]\n",
    "    trace = getGlobalTrace(pointers_matrix)\n",
    "\n",
    "    # Store the score of the alignment\n",
    "    score = dynamic_matrix[len(s)][len(t)]\n",
    "\n",
    "    i,j,sp,tp = 0,0,\"\",\"\"\n",
    "    # Iterate over trace\n",
    "    for k in range(0,len(trace)):\n",
    "        if trace[k] == 1:\n",
    "            sp += s[i]\n",
    "            tp += t[j]\n",
    "            i += 1\n",
    "            j += 1\n",
    "        elif trace[k] == 2:\n",
    "            sp += s[i]\n",
    "            tp += '-'\n",
    "            i += 1\n",
    "        else:\n",
    "            sp += '-'\n",
    "            tp += t[j]\n",
    "            j += 1\n",
    "       \n",
    "    return (sp,tp,score)\n",
    "\n"
   ]
  },
  {
   "cell_type": "code",
   "execution_count": 20,
   "id": "e307ae8e",
   "metadata": {},
   "outputs": [
    {
     "data": {
      "text/plain": [
       "('VIVALA-VIDA', 'VIVALADAVIS', 21.0)"
      ]
     },
     "execution_count": 20,
     "metadata": {},
     "output_type": "execute_result"
    }
   ],
   "source": [
    "globalAlignment('VIVALAVIDA','VIVALADAVIS',blosum62,-4)"
   ]
  },
  {
   "cell_type": "markdown",
   "id": "severe-membrane",
   "metadata": {},
   "source": [
    "## Smith-Waterman algorithm implementation\n",
    "\n",
    "Implementation of the Smith-Waterman algorithm for local alignment"
   ]
  },
  {
   "cell_type": "code",
   "execution_count": 21,
   "id": "008c47d2",
   "metadata": {},
   "outputs": [],
   "source": [
    "def getLocalTables(s,t,m,gap_penalty):\n",
    "    \"\"\"It gets as input the sequences to align (s, t), the substitution matrix (m), and the gap penalty (gap_penalty). \n",
    "    It returns the dynamic puntuation matrix and the decision matrix.\"\"\"\n",
    "\n",
    "    punt,dec = [],[]\n",
    "    # Fill matrices with zeros\n",
    "    for e in range(0,len(s)+1):\n",
    "        punt.append([0]*(len(t)+1))\n",
    "        dec.append([0]*(len(t)+1))\n",
    "    \n",
    "    # Fill the first row and column.\n",
    "    for i in range(1,len(s)+1):\n",
    "        dec[i][0] = 4\n",
    "    for j in range(1,len(t)+1):\n",
    "        dec[0][j] = 4\n",
    "    \n",
    "    # Fill the rest of the matrices with a nested loop\n",
    "    for i in range(1,len(s)+1):\n",
    "        for j in range(1,len(t)+1):\n",
    "            # Store the maximum value\n",
    "            punt[i][j] = max(punt[i-1][j-1]+m[s[i-1],t[j-1]],\n",
    "                            punt[i-1][j] + gap_penalty,\n",
    "                            punt[i][j-1] + gap_penalty,\n",
    "                            0)\n",
    "            # Store the index of the maximum + 1\n",
    "            dec[i][j] = np.argmax([punt[i-1][j-1]+m[s[i-1],t[j-1]],\n",
    "                            punt[i-1][j] + gap_penalty,\n",
    "                            punt[i][j-1] + gap_penalty,\n",
    "                            0]) + 1\n",
    "    \n",
    "    return (punt,dec)\n"
   ]
  },
  {
   "cell_type": "code",
   "execution_count": 22,
   "id": "35317f6c",
   "metadata": {},
   "outputs": [
    {
     "data": {
      "text/plain": [
       "([[0, 0, 0, 0, 0, 0, 0, 0, 0, 0, 0, 0],\n",
       "  [0, 4.0, 3.0, 4.0, 0.0, 1.0, 0.0, 0, 0.0, 4.0, 3.0, 0],\n",
       "  [0, 3.0, 8.0, 6.0, 3.0, 2.0, 0.0, 0, 0, 3.0, 8.0, 4.0],\n",
       "  [0, 4.0, 6.0, 12.0, 8.0, 4.0, 2.0, 0, 0.0, 4.0, 6.0, 6.0],\n",
       "  [0, 0.0, 3.0, 8.0, 16.0, 12.0, 8.0, 4.0, 4.0, 0.0, 3.0, 7.0],\n",
       "  [0, 1.0, 2.0, 4.0, 12.0, 20.0, 16.0, 12.0, 8.0, 5.0, 2.0, 3.0],\n",
       "  [0, 0.0, 0.0, 2.0, 8.0, 16.0, 24.0, 20.0, 16.0, 12.0, 8.0, 4.0],\n",
       "  [0, 4.0, 3.0, 4.0, 4.0, 12.0, 20.0, 21.0, 20.0, 20.0, 16.0, 12.0],\n",
       "  [0, 3.0, 8.0, 6.0, 3.0, 8.0, 16.0, 17.0, 20.0, 23.0, 24.0, 20.0],\n",
       "  [0, 0, 4.0, 5.0, 4.0, 4.0, 12.0, 22.0, 18.0, 19.0, 20.0, 24.0],\n",
       "  [0, 0.0, 0.0, 4.0, 9.0, 5.0, 8.0, 18.0, 26.0, 22.0, 18.0, 21.0]],\n",
       " [[0, 4, 4, 4, 4, 4, 4, 4, 4, 4, 4, 4],\n",
       "  [4, 1, 1, 1, 1, 1, 1, 4, 1, 1, 1, 4],\n",
       "  [4, 1, 1, 1, 1, 1, 1, 4, 4, 1, 1, 3],\n",
       "  [4, 1, 1, 1, 3, 1, 1, 4, 1, 1, 1, 1],\n",
       "  [4, 1, 1, 2, 1, 3, 1, 3, 1, 1, 1, 1],\n",
       "  [4, 1, 1, 1, 2, 1, 3, 3, 3, 1, 1, 2],\n",
       "  [4, 1, 1, 1, 1, 2, 1, 3, 1, 3, 3, 3],\n",
       "  [4, 1, 1, 1, 2, 2, 2, 1, 1, 1, 3, 3],\n",
       "  [4, 1, 1, 1, 1, 2, 2, 1, 1, 1, 1, 3],\n",
       "  [4, 4, 2, 1, 1, 2, 2, 1, 3, 2, 1, 1],\n",
       "  [4, 1, 2, 1, 1, 3, 1, 2, 1, 3, 1, 1]])"
      ]
     },
     "execution_count": 22,
     "metadata": {},
     "output_type": "execute_result"
    }
   ],
   "source": [
    "getLocalTables('VIVALAVIDA','VIVALADAVIS',blosum62,-4)"
   ]
  },
  {
   "cell_type": "code",
   "execution_count": 23,
   "id": "3fc5deeb",
   "metadata": {},
   "outputs": [],
   "source": [
    "def getLocalTrace(punt,dec):\n",
    "    \"\"\"It gets as input the dynamic puntuation matrix and the decision matrix and it returns the trace.\"\"\"\n",
    "\n",
    "    # Start from the position with maximum score\n",
    "    punt_arr=np.array(punt)\n",
    "    pos_max = np.where(punt_arr == punt_arr.max())\n",
    "    i=int(pos_max[0])\n",
    "    j=int(pos_max[1])\n",
    "    trace=[]\n",
    "    while dec[i][j]!=0:\n",
    "        trace.append(dec[i][j])\n",
    "        if dec[i][j]==1:\n",
    "            i-=1\n",
    "            j-=1\n",
    "        elif dec[i][j]==2:\n",
    "            i-=1\n",
    "        elif dec[i][j]==3:\n",
    "            j-=1\n",
    "    # Reverse the trace\n",
    "    trace.reverse()\n",
    "    return trace\n"
   ]
  },
  {
   "cell_type": "code",
   "execution_count": 24,
   "id": "7ff9c668",
   "metadata": {},
   "outputs": [
    {
     "data": {
      "text/plain": [
       "[1, 1, 1, 1, 1, 1, 2, 2, 1, 1]"
      ]
     },
     "execution_count": 24,
     "metadata": {},
     "output_type": "execute_result"
    }
   ],
   "source": [
    "getLocalTrace(*getLocalTables('VIVALAVIDA','VIVALADAVIS',blosum62,-4))"
   ]
  },
  {
   "cell_type": "code",
   "execution_count": 25,
   "id": "58ec3cca",
   "metadata": {},
   "outputs": [],
   "source": [
    "def localAlignment(s,t,m,gap_penalty):\n",
    "    \"\"\"It gets as input the sequences to align (s, t), the substitution matrix (m), and the gap penalty (gap_penalty). \n",
    "    It returns the two aligned sequences (sp, tp), and the score of the alignment obtained (score).\"\"\"\n",
    "    punt,dec=getLocalTables(s,t,m,gap_penalty)\n",
    "    punt_arr = np.array(punt)\n",
    "    score = punt_arr.max()\n",
    "    trace=getLocalTrace(punt,dec)\n",
    "    i, j, sp, tp = 0, 0, \"\", \"\"\n",
    "    for k in range(0,len(trace)):\n",
    "        if trace[k]==1:\n",
    "            sp += s[i]\n",
    "            tp += t[j]\n",
    "            i += 1\n",
    "            j += 1\n",
    "        elif trace[k]==2:\n",
    "            sp += s[i]\n",
    "            tp += '-'\n",
    "            i += 1\n",
    "        elif trace[k]==3:\n",
    "            sp += '-'\n",
    "            tp += t[j]\n",
    "            j += 1\n",
    "            \n",
    "    return (sp,tp,score)\n"
   ]
  },
  {
   "cell_type": "code",
   "execution_count": 26,
   "id": "9aa16919",
   "metadata": {},
   "outputs": [
    {
     "data": {
      "text/plain": [
       "('VIVALAVIDA', 'VIVALA--DA', 26.0)"
      ]
     },
     "execution_count": 26,
     "metadata": {},
     "output_type": "execute_result"
    }
   ],
   "source": [
    "localAlignment('VIVALAVIDA','VIVALADAVIS',blosum62,-4)"
   ]
  },
  {
   "cell_type": "code",
   "execution_count": 27,
   "id": "83407e21",
   "metadata": {},
   "outputs": [],
   "source": [
    "def formatAlignment(alignment):\n",
    "    \"\"\"It gets as input a tuple representing the alignment and prints this alignment in a aesthetic way.\"\"\"\n",
    "    s,t,score=alignment\n",
    "    align=\"\"\n",
    "    # Iterate over the two sequences\n",
    "    for x in zip(s,t):\n",
    "        \n",
    "        if x[0]==x[1]:\n",
    "            align+=\"|\"\n",
    "            \n",
    "        elif x[0]==\"-\" or x[1]==\"-\":\n",
    "            align+=\" \"\n",
    "            \n",
    "        else:\n",
    "            align+=\"·\"\n",
    "\n",
    "    pscore=\"Score: \"+ str(score)\n",
    "    print(s,align,t,pscore, sep=\"\\n\")"
   ]
  },
  {
   "cell_type": "markdown",
   "id": "8ce48c28",
   "metadata": {},
   "source": [
    "## Comparison of global and local alignment"
   ]
  },
  {
   "cell_type": "code",
   "execution_count": 28,
   "id": "bf0e299f",
   "metadata": {},
   "outputs": [
    {
     "name": "stdout",
     "output_type": "stream",
     "text": [
      "VIVALA-VIDA\n",
      "|||||| ····\n",
      "VIVALADAVIS\n",
      "Score: 21.0\n"
     ]
    }
   ],
   "source": [
    "alignment = globalAlignment('VIVALAVIDA','VIVALADAVIS',blosum62,-4)\n",
    "formatAlignment(alignment)"
   ]
  },
  {
   "cell_type": "code",
   "execution_count": 29,
   "id": "207fe9e4",
   "metadata": {},
   "outputs": [
    {
     "name": "stdout",
     "output_type": "stream",
     "text": [
      "VIVALAVIDA\n",
      "||||||  ||\n",
      "VIVALA--DA\n",
      "Score: 26.0\n"
     ]
    }
   ],
   "source": [
    "alignment = localAlignment('VIVALAVIDA','VIVALADAVIS',blosum62,-4)\n",
    "formatAlignment(alignment)"
   ]
  }
 ],
 "metadata": {
  "kernelspec": {
   "display_name": "Python 3 (ipykernel)",
   "language": "python",
   "name": "python3"
  },
  "language_info": {
   "codemirror_mode": {
    "name": "ipython",
    "version": 3
   },
   "file_extension": ".py",
   "mimetype": "text/x-python",
   "name": "python",
   "nbconvert_exporter": "python",
   "pygments_lexer": "ipython3",
   "version": "3.9.7"
  }
 },
 "nbformat": 4,
 "nbformat_minor": 5
}
